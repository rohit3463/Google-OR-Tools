{
  "nbformat": 4,
  "nbformat_minor": 0,
  "metadata": {
    "colab": {
      "name": "Constraint-programming-diy.ipynb",
      "provenance": []
    },
    "kernelspec": {
      "name": "python3",
      "display_name": "Python 3"
    }
  },
  "cells": [
    {
      "cell_type": "code",
      "metadata": {
        "id": "wAuU5hSYGjdb",
        "colab_type": "code",
        "outputId": "eb014b57-b2ee-4a6d-8ba4-34b7c52cb20d",
        "colab": {
          "base_uri": "https://localhost:8080/",
          "height": 324
        }
      },
      "source": [
        "!pip install --upgrade --user ortools\n",
        "!pip install networkx"
      ],
      "execution_count": 0,
      "outputs": [
        {
          "output_type": "stream",
          "text": [
            "Collecting ortools\n",
            "\u001b[?25l  Downloading https://files.pythonhosted.org/packages/1c/d5/c4382df6b6b978971f11287552f5c0acc54ea7bf8ce70a9c77d8a06531b2/ortools-7.6.7691-cp36-cp36m-manylinux1_x86_64.whl (28.9MB)\n",
            "\u001b[K     |████████████████████████████████| 28.9MB 145kB/s \n",
            "\u001b[?25hCollecting protobuf>=3.11.2\n",
            "\u001b[?25l  Downloading https://files.pythonhosted.org/packages/28/05/9867ef8eafd12265267bee138fa2c46ebf34a276ea4cbe184cba4c606e8b/protobuf-3.12.2-cp36-cp36m-manylinux1_x86_64.whl (1.3MB)\n",
            "\u001b[K     |████████████████████████████████| 1.3MB 48.7MB/s \n",
            "\u001b[?25hRequirement already satisfied, skipping upgrade: six>=1.10 in /usr/local/lib/python3.6/dist-packages (from ortools) (1.12.0)\n",
            "Requirement already satisfied, skipping upgrade: setuptools in /usr/local/lib/python3.6/dist-packages (from protobuf>=3.11.2->ortools) (47.1.1)\n",
            "Installing collected packages: protobuf, ortools\n",
            "Successfully installed ortools-7.6.7691 protobuf-3.12.2\n"
          ],
          "name": "stdout"
        },
        {
          "output_type": "display_data",
          "data": {
            "application/vnd.colab-display-data+json": {
              "pip_warning": {
                "packages": [
                  "google"
                ]
              }
            }
          },
          "metadata": {
            "tags": []
          }
        },
        {
          "output_type": "stream",
          "text": [
            "Requirement already satisfied: networkx in /usr/local/lib/python3.6/dist-packages (2.4)\n",
            "Requirement already satisfied: decorator>=4.3.0 in /usr/local/lib/python3.6/dist-packages (from networkx) (4.4.2)\n"
          ],
          "name": "stdout"
        }
      ]
    },
    {
      "cell_type": "code",
      "metadata": {
        "id": "qsSheuDeGyIY",
        "colab_type": "code",
        "outputId": "a6ba8ced-e810-4c84-9f9a-1904115c0c13",
        "colab": {
          "base_uri": "https://localhost:8080/",
          "height": 482
        }
      },
      "source": [
        "from ortools.sat.python import cp_model\n",
        "import matplotlib.pyplot as plt\n",
        "import networkx as nx\n",
        "\n",
        "class SolutionPrinter(cp_model.CpSolverSolutionCallback):\n",
        "  \"\"\"Print intermediate solutions.\"\"\"\n",
        "\n",
        "  def __init__(self, variables, limit):\n",
        "    cp_model.CpSolverSolutionCallback.__init__(self)\n",
        "    self.__variables = variables\n",
        "    self.__solution_count = 0\n",
        "    self.__solution_limit = limit\n",
        "    self.colors = [\"red\", \"blue\", \"green\"]\n",
        "    self.node_colors = []\n",
        "\n",
        "  def OnSolutionCallback(self):\n",
        "    self.__solution_count += 1\n",
        "    for v in self.__variables:\n",
        "      print('{} = {}'.format(v, self.colors[self.Value(v)]), end = '\\n')\n",
        "      self.node_colors.append(self.colors[self.Value(v)])\n",
        "    print()\n",
        "    if self.__solution_count >= self.__solution_limit:\n",
        "      print('Stop search after {} solutions'.format(self.__solution_limit))\n",
        "      self.StopSearch()\n",
        "\n",
        "  def SolutionCount(self):\n",
        "    return self.__solution_count, self.node_colors\n",
        "\n",
        "def graph_coloring(num_nodes, connections, k, num_solutions=2):\n",
        "  model = cp_model.CpModel()\n",
        "\n",
        "  nodes = [model.NewIntVar(0, k-1, 'x%i' %i) for i in range(num_nodes)]\n",
        "\n",
        "  for i, conn in enumerate(connections):\n",
        "    model.Add(nodes[conn[0]] != nodes[conn[1]])\n",
        "  \n",
        "  solver = cp_model.CpSolver()\n",
        "  solution_printer = SolutionPrinter(nodes, num_solutions)\n",
        "  status = solver.SearchForAllSolutions(model, solution_printer)\n",
        "  count, colors = solution_printer.SolutionCount()\n",
        "  print(\"Solution found : %i\" % count)\n",
        "  return colors\n",
        "\n",
        "num_nodes = 10\n",
        "domain = 3\n",
        "connections = [\n",
        "               (0, 1),\n",
        "               (1, 2),\n",
        "               (2, 3),\n",
        "               (3, 4),\n",
        "               (0, 4),\n",
        "               (1, 5),\n",
        "               (0, 6),\n",
        "               (2, 7),\n",
        "               (3, 8),\n",
        "               (4, 9),\n",
        "               (5, 9),\n",
        "               (5, 8),\n",
        "               (6, 7),\n",
        "               (6, 8),\n",
        "               (7, 9)\n",
        "]\n",
        "num_solutions = 1\n",
        "g1 = nx.Graph()\n",
        "for conn in connections:\n",
        "  g1.add_edge(conn[0], conn[1], color=\"black\")\n",
        "plt.subplot(121)\n",
        "nx.draw(g1, with_labels=True, font_weight='bold') \n",
        "plt.savefig(\"raw.png\")\n",
        "colors = graph_coloring(num_nodes, connections, domain, num_solutions)\n",
        "plt.subplot(122)\n",
        "assign_colors = []\n",
        "for node in g1.nodes():\n",
        "  assign_colors.append(colors[node])\n",
        "nx.draw(g1,node_color = assign_colors, with_labels=True, font_weight='bold')\n",
        "plt.savefig(\"processed.png\")"
      ],
      "execution_count": 0,
      "outputs": [
        {
          "output_type": "stream",
          "text": [
            "x0 = red\n",
            "x1 = green\n",
            "x2 = red\n",
            "x3 = green\n",
            "x4 = blue\n",
            "x5 = blue\n",
            "x6 = green\n",
            "x7 = blue\n",
            "x8 = red\n",
            "x9 = red\n",
            "\n",
            "Stop search after 1 solutions\n",
            "Solution found : 1\n"
          ],
          "name": "stdout"
        },
        {
          "output_type": "display_data",
          "data": {
            "image/png": "[encoded data removed]",
            "text/plain": [
              "<Figure size 432x288 with 2 Axes>"
            ]
          },
          "metadata": {
            "tags": []
          }
        }
      ]
    },
    {
      "cell_type": "code",
      "metadata": {
        "id": "RWHeYBdAz6Er",
        "colab_type": "code",
        "colab": {}
      },
      "source": [
        ""
      ],
      "execution_count": 0,
      "outputs": []
    },
    {
      "cell_type": "code",
      "metadata": {
        "id": "Ma09lZe2z6VK",
        "colab_type": "code",
        "colab": {}
      },
      "source": [
        ""
      ],
      "execution_count": 0,
      "outputs": []
    },
    {
      "cell_type": "code",
      "metadata": {
        "id": "mb-08oRtz6hm",
        "colab_type": "code",
        "colab": {}
      },
      "source": [
        ""
      ],
      "execution_count": 0,
      "outputs": []
    },
    {
      "cell_type": "markdown",
      "metadata": {
        "id": "7zfCZOHEz6yl",
        "colab_type": "text"
      },
      "source": [
        ""
      ]
    },
    {
      "cell_type": "markdown",
      "metadata": {
        "id": "VWkNXWbUz7PY",
        "colab_type": "text"
      },
      "source": [
        ""
      ]
    },
    {
      "cell_type": "markdown",
      "metadata": {
        "id": "fHW-Oidoz7N7",
        "colab_type": "text"
      },
      "source": [
        ""
      ]
    }
  ]
}