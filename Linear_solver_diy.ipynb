{
  "nbformat": 4,
  "nbformat_minor": 0,
  "metadata": {
    "colab": {
      "name": "Linear-solver-diy.ipynb",
      "provenance": []
    },
    "kernelspec": {
      "name": "python3",
      "display_name": "Python 3"
    }
  },
  "cells": [
    {
      "cell_type": "code",
      "metadata": {
        "id": "VqN8zPbPOwqy",
        "colab_type": "code",
        "colab": {}
      },
      "source": [
        "!pip install --upgrade --user ortools"
      ],
      "execution_count": 0,
      "outputs": []
    },
    {
      "cell_type": "code",
      "metadata": {
        "id": "xv71tZCGOgYN",
        "colab_type": "code",
        "colab": {}
      },
      "source": [
        "from __future__ import print_function\n",
        "from ortools.linear_solver import pywraplp"
      ],
      "execution_count": 0,
      "outputs": []
    },
    {
      "cell_type": "code",
      "metadata": {
        "id": "xyoU8cvkOt6X",
        "colab_type": "code",
        "outputId": "37749ce1-c33d-4d6f-f881-2515496fa892",
        "colab": {
          "base_uri": "https://localhost:8080/",
          "height": 121
        }
      },
      "source": [
        "def LinearProgrammingSolver():\n",
        "  solver = pywraplp.Solver('LinearProgrammingSolver',\n",
        "                             pywraplp.Solver.GLOP_LINEAR_PROGRAMMING)\n",
        "  A = solver.NumVar(0, solver.infinity(), 'A')\n",
        "  B = solver.NumVar(0, solver.infinity(), 'B')\n",
        "\n",
        "  constraint0 = solver.Constraint(-solver.infinity(), 1000)\n",
        "  constraint0.SetCoefficient(A, 4)\n",
        "  constraint0.SetCoefficient(B, 5)\n",
        "\n",
        "  constraint1 = solver.Constraint(-solver.infinity(), 1000)\n",
        "  constraint1.SetCoefficient(A, 5)\n",
        "  constraint1.SetCoefficient(B, 2)\n",
        "\n",
        "  constraint2 = solver.Constraint(-solver.infinity(), 1200)\n",
        "  constraint2.SetCoefficient(A, 3)\n",
        "  constraint2.SetCoefficient(B, 8)\n",
        "\n",
        "  objective = solver.Objective()\n",
        "  objective.SetCoefficient(A, 5)\n",
        "  objective.SetCoefficient(B, 3)\n",
        "  objective.SetMaximization()\n",
        "\n",
        "  solver.Solve()\n",
        "  opt_solution = 5 * A.solution_value() + 3 * B.solution_value()\n",
        "\n",
        "  print('Number of variables =', solver.NumVariables())\n",
        "  print('Number of constraints =', solver.NumConstraints())\n",
        "  # The value of each variable in the solution.\n",
        "  print('Solution:')\n",
        "  print('x = ', A.solution_value())\n",
        "  print('y = ', B.solution_value())\n",
        "  # The objective value of the solution.\n",
        "  print('Optimal objective value =', opt_solution)\n",
        "\n",
        "LinearProgrammingSolver()"
      ],
      "execution_count": 0,
      "outputs": [
        {
          "output_type": "stream",
          "text": [
            "Number of variables = 2\n",
            "Number of constraints = 3\n",
            "Solution:\n",
            "x =  176.47058823529403\n",
            "y =  58.82352941176477\n",
            "Optimal objective value = 1058.8235294117644\n"
          ],
          "name": "stdout"
        }
      ]
    }
  ]
}